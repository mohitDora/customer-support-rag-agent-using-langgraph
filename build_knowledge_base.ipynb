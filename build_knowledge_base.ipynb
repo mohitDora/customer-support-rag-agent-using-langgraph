{
 "cells": [
  {
   "cell_type": "markdown",
   "id": "50eb8f45",
   "metadata": {},
   "source": [
    "### Import Statements"
   ]
  },
  {
   "cell_type": "code",
   "execution_count": 22,
   "id": "fdcef33b",
   "metadata": {},
   "outputs": [
    {
     "data": {
      "text/plain": [
       "True"
      ]
     },
     "execution_count": 22,
     "metadata": {},
     "output_type": "execute_result"
    }
   ],
   "source": [
    "import os\n",
    "from langchain_community.document_loaders import PyPDFLoader, TextLoader, UnstructuredMarkdownLoader\n",
    "from langchain.text_splitter import RecursiveCharacterTextSplitter\n",
    "from langchain_google_genai import GoogleGenerativeAIEmbeddings\n",
    "from langchain_community.vectorstores import Chroma\n",
    "from dotenv import load_dotenv\n",
    "\n",
    "load_dotenv()"
   ]
  },
  {
   "cell_type": "markdown",
   "id": "9bfffa2a",
   "metadata": {},
   "source": [
    "### Configuration"
   ]
  },
  {
   "cell_type": "code",
   "execution_count": 23,
   "id": "b25bd704",
   "metadata": {},
   "outputs": [],
   "source": [
    "DATA_DIR = \"./data\" # Path to your documents\n",
    "CHROMA_DB_DIR = \"./chroma_db\"             # Directory to store ChromaDB persistence\n",
    "COLLECTION_NAME = \"customer_support_knowledge\" # Name of your collection in ChromaDB\n",
    "GOOGLE_API_KEY = os.getenv(\"GEMINI_API_KEY\")"
   ]
  },
  {
   "cell_type": "markdown",
   "id": "e2b025eb",
   "metadata": {},
   "source": [
    "### Load Documents"
   ]
  },
  {
   "cell_type": "code",
   "execution_count": 24,
   "id": "96de48b8",
   "metadata": {},
   "outputs": [],
   "source": [
    "def load_documents(data_dir):\n",
    "    documents = []\n",
    "    for filename in os.listdir(data_dir):\n",
    "        file_path = os.path.join(data_dir, filename)\n",
    "        if filename.endswith(\".pdf\"):\n",
    "            loader = PyPDFLoader(file_path)\n",
    "            documents.extend(loader.load())\n",
    "            print(f\"Loaded {len(loader.load())} pages from {filename}\")\n",
    "        elif filename.endswith(\".txt\"):\n",
    "            loader = TextLoader(file_path)\n",
    "            documents.extend(loader.load())\n",
    "            print(f\"Loaded text from {filename}\")\n",
    "        elif filename.endswith(\".md\"):\n",
    "            # UnstructuredMarkdownLoader is good for parsing Markdown structure\n",
    "            loader = UnstructuredMarkdownLoader(file_path)\n",
    "            print(f\"Loaded markdown from {filename}\")\n",
    "        else:\n",
    "            print(f\"Skipping unsupported file type: {filename}\")\n",
    "    return documents"
   ]
  },
  {
   "cell_type": "markdown",
   "id": "775f80d1",
   "metadata": {},
   "source": [
    "### Chunking documents"
   ]
  },
  {
   "cell_type": "code",
   "execution_count": 25,
   "id": "cf17c98e",
   "metadata": {},
   "outputs": [],
   "source": [
    "def chunk_documents(documents):\n",
    "    text_splitter = RecursiveCharacterTextSplitter(\n",
    "        chunk_size=1000,      # Max characters per chunk\n",
    "        chunk_overlap=200,    # Overlap between chunks to maintain context\n",
    "        length_function=len,  # Use character length for chunking\n",
    "        separators=[\"\\n\\n\", \"\\n\", \" \", \"\"] # Try splitting by paragraphs, then lines, then words, then characters\n",
    "    )\n",
    "    chunks = text_splitter.split_documents(documents)\n",
    "    print(f\"Split {len(documents)} documents into {len(chunks)} chunks.\")\n",
    "    return chunks"
   ]
  },
  {
   "cell_type": "markdown",
   "id": "18c49178",
   "metadata": {},
   "source": [
    "### Create Embeddings"
   ]
  },
  {
   "cell_type": "code",
   "execution_count": 26,
   "id": "bd6a932f",
   "metadata": {},
   "outputs": [],
   "source": [
    "def create_and_store_embeddings(chunks, chroma_db_dir, collection_name, google_api_key):\n",
    "    # Initialize Google Gemini Embeddings\n",
    "    embeddings = GoogleGenerativeAIEmbeddings(\n",
    "        model=\"models/embedding-001\", # Recommended embedding model for Gemini\n",
    "        google_api_key=google_api_key\n",
    "    )\n",
    "\n",
    "    # Create a ChromaDB instance, persisting to disk\n",
    "    # This will create/load the database at CHROMA_DB_DIR\n",
    "    print(f\"Creating/loading ChromaDB at {chroma_db_dir} with collection '{collection_name}'...\")\n",
    "    vector_db = Chroma.from_documents(\n",
    "        documents=chunks,\n",
    "        embedding=embeddings,\n",
    "        persist_directory=chroma_db_dir,\n",
    "        collection_name=collection_name\n",
    "    )\n",
    "    print(\"Vector database created/updated successfully.\")\n",
    "    return vector_db"
   ]
  },
  {
   "cell_type": "markdown",
   "id": "558e15ff",
   "metadata": {},
   "source": [
    "### Running file"
   ]
  },
  {
   "cell_type": "code",
   "execution_count": 27,
   "id": "c3176caa",
   "metadata": {},
   "outputs": [
    {
     "name": "stdout",
     "output_type": "stream",
     "text": [
      "--- Starting Phase 1: Building Knowledge Base ---\n",
      "Loaded text from QuantumFlow_FAQ.txt\n",
      "Loaded text from QuantumFlow_Troubleshooting_Guide.txt\n",
      "Loaded 3 pages from QuantumFlow_User_Manual.pdf\n",
      "Split 5 documents into 23 chunks.\n",
      "[Document(metadata={'source': './data\\\\QuantumFlow_FAQ.txt'}, page_content='QuantumFlow Smart Water Purifier - Frequently Asked Questions (FAQ)\\n\\nThis document addresses common questions about your QuantumFlow Smart Water Purifier (Model QF-2025).\\n\\n---\\n\\nGENERAL QUESTIONS\\n\\nQ1: What makes the QuantumFlow Smart Water Purifier \"smart\"?\\nA1: The QuantumFlow QF-2025 is smart due to its AI-powered monitoring system, real-time water quality analysis, filter life prediction, and seamless integration with the \"QuantumFlow Connect\" mobile app. This allows for remote control, usage tracking, and intelligent alerts.\\n\\nQ2: What type of filtration does the QuantumFlow use?\\nA2: The QF-2025 utilizes a multi-stage purification process including Reverse Osmosis (RO), Ultraviolet (UV), Ultrafiltration (UF), and an Alkaline Enhancer for superior water quality.\\n\\nQ3: What is the storage capacity of the QuantumFlow?\\nA3: The QuantumFlow QF-2025 has a purified water storage tank capacity of 7 liters.'), Document(metadata={'source': './data\\\\QuantumFlow_FAQ.txt'}, page_content='Q3: What is the storage capacity of the QuantumFlow?\\nA3: The QuantumFlow QF-2025 has a purified water storage tank capacity of 7 liters.\\n\\nQ4: Is professional installation required?\\nA4: While the user manual provides detailed installation instructions for DIY enthusiasts, professional installation is recommended if you are not comfortable with basic plumbing connections. Please contact QuantumFlow customer support for certified installers in your area.\\n\\n---\\n\\nOPERATION & FEATURES\\n\\nQ5: How do I connect my QuantumFlow to the mobile app?\\nA5: Download the \"QuantumFlow Connect\" app. Ensure your phone\\'s Bluetooth is on. Open the app and follow the pairing instructions. You may need to press and hold the Wi-Fi button on the purifier for 5 seconds until the indicator blinks.'), Document(metadata={'source': './data\\\\QuantumFlow_FAQ.txt'}, page_content='Q6: How do I activate the self-cleaning mode?\\nA6: The self-cleaning mode can be activated via the \"QuantumFlow Connect\" mobile app or by pressing and holding the dedicated self-clean button on the purifier for 3 seconds. It\\'s recommended to run this mode monthly.\\n\\nQ7: What do the LED filter status indicators mean?\\nA7:\\n- Green Light: Filter status is good.\\n- Yellow Light: Filter is nearing the end of its life and should be prepared for replacement soon.\\n- Red Light: Filter replacement is required immediately for optimal performance and water quality.\\n\\nQ8: Can I dispense water remotely using the app?\\nA8: Yes, the \"QuantumFlow Connect\" app allows you to remotely control water dispensing, monitor water quality, and track filter life.\\n\\n---\\n\\nMAINTENANCE & TROUBLESHOOTING'), Document(metadata={'source': './data\\\\QuantumFlow_FAQ.txt'}, page_content=\"---\\n\\nMAINTENANCE & TROUBLESHOOTING\\n\\nQ9: How often do I need to replace the filters?\\nA9: Filter replacement frequency varies based on input water quality and usage. Generally, filters should be replaced every 6-12 months, or when indicated by the mobile app or the purifier's LED filter status indicators (yellow/red light).\\n\\nQ10: Where can I buy replacement filters?\\nA10: Genuine QuantumFlow replacement filters can be purchased directly from our official website (www.quantumflow.com/shop) or authorized dealers. Refer to your user manual for correct filter model numbers (e.g., QF-SF01, QF-RO01).\"), Document(metadata={'source': './data\\\\QuantumFlow_FAQ.txt'}, page_content='Q11: What should I do if the water flow is very slow?\\nA11: Slow water flow can indicate several issues:\\n1. Clogged Filters: Check the filter status indicators. If yellow or red, filters need replacement.\\n2. Low Input Water Pressure: Ensure your main water supply is fully open and has adequate pressure.\\n3. Air Lock: Sometimes, air trapped in the system can cause slow flow. Try turning the unit off and on, and dispensing water a few times.\\n4. RO Membrane Issue: If other filters are fine, the RO membrane might be clogged, especially with hard water.\\n\\nRefer to the \"QuantumFlow Troubleshooting Guide\" for more detailed steps.'), Document(metadata={'source': './data\\\\QuantumFlow_FAQ.txt'}, page_content='Refer to the \"QuantumFlow Troubleshooting Guide\" for more detailed steps.\\n\\nQ12: Why does my purified water taste strange?\\nA12: A strange taste can occur if:\\n1. New Filters: A slight taste might be present immediately after installing new filters; flush the system for 15-20 minutes.\\n2. Expired Filters: Filters, especially the carbon filter, might be exhausted. Replace them.\\n3. Contamination: Ensure the storage tank and dispensing area are clean.\\n\\nQ13: My app is not connecting to the purifier. What should I do?\\nA13:\\n1. Ensure your Wi-Fi router is working and the purifier is within range.\\n2. Restart your phone, the app, and the QuantumFlow purifier.\\n3. Ensure Bluetooth is enabled on your phone for initial pairing.\\n4. If the issue persists, try resetting the Wi-Fi connection on the purifier (refer to manual) and re-pairing.\\n\\n---\\n\\nWARRANTY & SUPPORT'), Document(metadata={'source': './data\\\\QuantumFlow_FAQ.txt'}, page_content='---\\n\\nWARRANTY & SUPPORT\\n\\nQ14: What is the warranty period for the QuantumFlow QF-2025?\\nA14: The QuantumFlow QF-2025 comes with a 2-year limited warranty covering manufacturing defects from the date of purchase.\\n\\nQ15: Does the warranty cover filter replacements?\\nA15: No, the warranty typically does not cover consumable parts like filters, which require periodic replacement due to normal wear and tear and usage.\\n\\nQ16: How can I contact customer support?\\nA16:\\n- Phone: 1800-123-4567 (Toll-Free, Mon-Fri, 9 AM - 6 PM IST)\\n- Email: support@quantumflow.com\\n- Website: www.quantumflow.com/support\\n- Live Chat: Available on our website during business hours.'), Document(metadata={'source': './data\\\\QuantumFlow_Troubleshooting_Guide.txt'}, page_content=\"QuantumFlow Smart Water Purifier - Troubleshooting Guide\\nModel: QF-2025\\n\\nThis guide provides solutions to common issues you might encounter with your QuantumFlow Smart Water Purifier. For more detailed information, please refer to the User Manual or contact customer support.\\n\\n---\\n\\nISSUE 1: NO WATER DISPENSING OR VERY SLOW FLOW\\n\\nPossible Causes & Solutions:\\n\\n1.  LOW INPUT WATER PRESSURE:\\n    * Check your main water supply valve to ensure it's fully open.\\n    * Verify if there's sufficient water pressure in your household. (e.g., check other taps).\\n    * Solution: Ensure adequate water supply and pressure to the purifier's inlet.\"), Document(metadata={'source': './data\\\\QuantumFlow_Troubleshooting_Guide.txt'}, page_content=\"2.  CLOGGED FILTERS:\\n    * Check the filter status indicators on the purifier's LED display or in the QuantumFlow Connect app.\\n    * Yellow or Red lights indicate filters are nearing end-of-life or need immediate replacement.\\n    * Solution: Order and replace the indicated filters (Sediment, Pre-Carbon, RO Membrane). Refer to the User Manual for filter replacement instructions and part numbers.\\n\\n3.  AIR LOCK IN THE SYSTEM:\\n    * This can occur after initial installation or filter replacement.\\n    * Solution: Turn off the purifier for 5 minutes, then turn it back on. Open the dispense valve for a few minutes to allow any trapped air to escape. Repeat if necessary.\\n\\n4.  FAULTY SOLENOID VALVE (SV):\\n    * The SV controls water flow into the purifier. If it fails, water won't enter.\\n    * Solution: This requires professional inspection. Contact customer support.\"), Document(metadata={'source': './data\\\\QuantumFlow_Troubleshooting_Guide.txt'}, page_content=\"4.  FAULTY SOLENOID VALVE (SV):\\n    * The SV controls water flow into the purifier. If it fails, water won't enter.\\n    * Solution: This requires professional inspection. Contact customer support.\\n\\n5.  BLOCKED RO MEMBRANE:\\n    * The RO membrane can get severely clogged, especially with high TDS input water.\\n    * Solution: The RO membrane will need replacement. This is usually indicated by a persistent red light for the RO filter.\\n\\n---\\n\\nISSUE 2: STRANGE TASTE OR ODOR IN PURIFIED WATER\\n\\nPossible Causes & Solutions:\\n\\n1.  NEW FILTER TASTE:\\n    * A slight plastic or carbon taste can be present immediately after new filter installation.\\n    * Solution: Perform an initial flush as described in the User Manual (dispense and discard 15-20 liters of water).\"), Document(metadata={'source': './data\\\\QuantumFlow_Troubleshooting_Guide.txt'}, page_content=\"2.  EXPIRED CARBON FILTER:\\n    * The Pre-Carbon filter (QF-PC01) removes chlorine and organic impurities responsible for taste and odor. If it's expired, taste issues can arise.\\n    * Solution: Check filter status. If the Pre-Carbon filter is yellow/red, replace it.\\n\\n3.  CONTAMINATED STORAGE TANK/SPIGOT:\\n    * Solution: Clean the external parts of the purifier and spigot regularly with a soft, damp cloth. If you suspect internal tank contamination, contact customer support for guidance.\\n\\n4.  RO MEMBRANE FOULING:\\n    * If the RO membrane is severely fouled or damaged, it might not effectively remove impurities.\\n    * Solution: Replace the RO membrane (QF-RO01).\\n\\n---\\n\\nISSUE 3: WATER LEAKAGE\\n\\nPossible Causes & Solutions:\\n\\n1.  LOOSE FITTINGS/CONNECTIONS:\\n    * Check all plumbing connections (inlet pipe, outlet pipe, drain connection) for tightness.\\n    * Solution: Gently tighten any loose fittings. Do not overtighten.\"), Document(metadata={'source': './data\\\\QuantumFlow_Troubleshooting_Guide.txt'}, page_content='1.  LOOSE FITTINGS/CONNECTIONS:\\n    * Check all plumbing connections (inlet pipe, outlet pipe, drain connection) for tightness.\\n    * Solution: Gently tighten any loose fittings. Do not overtighten.\\n\\n2.  DAMAGED O-RINGS OR SEALS:\\n    * Over time, rubber seals can wear out or become dislodged.\\n    * Solution: Turn off water supply and power. Inspect seals around filter housings. If damaged, contact customer support for replacement parts or service.\\n\\n3.  CRACKED HOUSING/UNIT:\\n    * Inspect the purifier unit for any visible cracks, especially after accidental impact.\\n    * Solution: If a crack is found, immediately turn off water and power and contact customer support. Do not attempt to repair yourself.\\n\\n4.  FULL DRAIN LINE:\\n    * Ensure the drain line is not kinked or blocked, preventing wastewater from flowing out freely.\\n    * Solution: Straighten any kinks and clear any blockages in the drain line.\\n\\n---\\n\\nISSUE 4: APP CONNECTIVITY ISSUES (QuantumFlow Connect App)'), Document(metadata={'source': './data\\\\QuantumFlow_Troubleshooting_Guide.txt'}, page_content='---\\n\\nISSUE 4: APP CONNECTIVITY ISSUES (QuantumFlow Connect App)\\n\\nPossible Causes & Solutions:\\n\\n1.  WI-FI/BLUETOOTH OFF OR OUT OF RANGE:\\n    * Solution: Ensure your phone\\'s Wi-Fi and Bluetooth are enabled. Make sure the purifier is within range of your Wi-Fi router.\\n\\n2.  INCORRECT PAIRING PROCEDURE:\\n    * Solution: Refer to Section 6.1 in the User Manual (\"Smart Features & App Integration\") for detailed pairing instructions. Ensure you are pressing the Wi-Fi button on the purifier for the correct duration.\\n\\n3.  ROUTER OR INTERNET ISSUES:\\n    * Solution: Restart your Wi-Fi router. Check if your internet connection is working normally for other devices.\\n\\n4.  APP GLITCH:\\n    * Solution: Close and restart the QuantumFlow Connect app. Try restarting your phone.'), Document(metadata={'source': './data\\\\QuantumFlow_Troubleshooting_Guide.txt'}, page_content=\"4.  APP GLITCH:\\n    * Solution: Close and restart the QuantumFlow Connect app. Try restarting your phone.\\n\\n5.  PURIFIER WI-FI MODULE ISSUE:\\n    * Solution: If all else fails, try resetting the purifier's Wi-Fi connection (refer to manual for specific button sequence, usually pressing the Wi-Fi button for 10-15 seconds until it resets). Then attempt to re-pair. If problems persist, contact customer support.\\n\\n---\\n\\nISSUE 5: UNUSUAL NOISE FROM THE PURIFIER\\n\\nPossible Causes & Solutions:\\n\\n1.  NORMAL OPERATING NOISE:\\n    * Some noise (humming, gurgling) is normal during purification cycles, especially from the pump and drain.\\n    * Solution: This is usually not a concern unless the noise is excessively loud or unusual.\\n\\n2.  AIR IN THE SYSTEM:\\n    * Similar to slow flow, air can cause gurgling or bubbling noises.\\n    * Solution: Allow the unit to run and dispense water for a while to clear trapped air.\"), Document(metadata={'source': './data\\\\QuantumFlow_Troubleshooting_Guide.txt'}, page_content='2.  AIR IN THE SYSTEM:\\n    * Similar to slow flow, air can cause gurgling or bubbling noises.\\n    * Solution: Allow the unit to run and dispense water for a while to clear trapped air.\\n\\n3.  LOOSE COMPONENTS/VIBRATION:\\n    * Solution: Gently check if the unit is stable on a flat surface. Ensure no pipes are rattling against the cabinet.\\n\\n4.  PUMP MALFUNCTION:\\n    * A loud, grinding, or whining noise could indicate a pump issue.\\n    * Solution: Contact customer support for diagnosis and possible repair.\\n\\n---\\n\\nFor any issues not covered in this guide, or if the suggested solutions do not resolve your problem, please do not hesitate to contact QuantumFlow Customer Support.\\n\\nQuantumFlow Customer Support:\\nPhone: 1800-123-4567\\nEmail: support@quantumflow.com\\nWebsite: www.quantumflow.com/support'), Document(metadata={'producer': 'Skia/PDF m139 Google Docs Renderer', 'creator': 'PyPDF', 'creationdate': '', 'title': 'Untitled document', 'source': './data\\\\QuantumFlow_User_Manual.pdf', 'total_pages': 3, 'page': 0, 'page_label': '1'}, page_content='QuantumFlow  Smart  Water  Purifier  -  Model  QF-2025  \\nUser  Manual  \\nVersion  1.2  -  July  2025  \\nTable  of  Contents:  \\n1.  Introduction  2.  Safety  Instructions  3.  Package  Contents  4.  Installation  Guide  5.  Operating  Your  QuantumFlow  6.  Smart  Features  &  App  Integration  7.  Maintenance  &  Care  8.  Troubleshooting  9.  Warranty  Information  10.  Specifications  \\n---  \\n1.  Introduction  a.  Thank  you  for  choosing  the  QuantumFlow  Smart  Water  Purifier.  The  QF-2025  represents  the  \\npinnacle\\n \\nof\\n \\nwater\\n \\npurification\\n \\ntechnology,\\n \\ncombining\\n \\nadvanced\\n \\nfiltration\\n \\nwith\\n \\nintelligent\\n \\nmonitoring\\n \\nto\\n \\nprovide\\n \\nyou\\n \\nand\\n \\nyour\\n \\nfamily\\n \\nwith\\n \\nthe\\n \\npurest\\n \\nwater.\\n \\nThis\\n \\nmanual\\n \\nwill\\n \\nguide\\n \\nyou\\n \\nthrough\\n \\nthe\\n \\ninstallation,\\n \\noperation,\\n \\nand\\n \\nmaintenance\\n \\nof\\n \\nyour\\n \\nnew\\n \\ndevice.'), Document(metadata={'producer': 'Skia/PDF m139 Google Docs Renderer', 'creator': 'PyPDF', 'creationdate': '', 'title': 'Untitled document', 'source': './data\\\\QuantumFlow_User_Manual.pdf', 'total_pages': 3, 'page': 0, 'page_label': '1'}, page_content='you\\n \\nand\\n \\nyour\\n \\nfamily\\n \\nwith\\n \\nthe\\n \\npurest\\n \\nwater.\\n \\nThis\\n \\nmanual\\n \\nwill\\n \\nguide\\n \\nyou\\n \\nthrough\\n \\nthe\\n \\ninstallation,\\n \\noperation,\\n \\nand\\n \\nmaintenance\\n \\nof\\n \\nyour\\n \\nnew\\n \\ndevice.\\n \\n \\n2.  Safety  Instructions  a.  Always  ensure  the  purifier  is  connected  to  a  grounded  power  outlet.  b.  Do  not  expose  the  purifier  to  direct  sunlight  or  extreme  temperatures.  c.  Keep  out  of  reach  of  children.  d.  For  indoor  use  only.  e.  Turn  off  the  power  supply  before  performing  any  maintenance.  \\n \\n3.  Package  Contents  a.  QuantumFlow  QF-2025  Main  Unit  b.  Installation  Kit  (Inlet  Pipe,  Outlet  Pipe,  Ball  Valve,  Screws)  c.  User  Manual  d.  Warranty  Card  e.  Quick  Start  Guide  \\n \\n4.  4.  Installation  Guide  a.  Site  Selection:  i.  Choose  a  flat,  stable  surface  near  a  water  source  (tap  connection)  and  a  power  \\noutlet.\\n \\nEnsure\\n \\nadequate\\n \\nspace\\n \\naround\\n \\nthe\\n \\nunit\\n \\nfor\\n \\nventilation\\n \\nand\\n \\nmaintenance.'), Document(metadata={'producer': 'Skia/PDF m139 Google Docs Renderer', 'creator': 'PyPDF', 'creationdate': '', 'title': 'Untitled document', 'source': './data\\\\QuantumFlow_User_Manual.pdf', 'total_pages': 3, 'page': 0, 'page_label': '1'}, page_content='outlet.\\n \\nEnsure\\n \\nadequate\\n \\nspace\\n \\naround\\n \\nthe\\n \\nunit\\n \\nfor\\n \\nventilation\\n \\nand\\n \\nmaintenance.\\n b.  Plumbing  Connection:  i.  a.  Turn  off  the  main  water  supply.  ii.  b.  Attach  the  provided  ball  valve  to  your  cold  water  supply  line.'), Document(metadata={'producer': 'Skia/PDF m139 Google Docs Renderer', 'creator': 'PyPDF', 'creationdate': '', 'title': 'Untitled document', 'source': './data\\\\QuantumFlow_User_Manual.pdf', 'total_pages': 3, 'page': 1, 'page_label': '2'}, page_content=\"iii.  c.  Connect  the  inlet  pipe  from  the  purifier  to  the  ball  valve.  iv.  d.  Connect  the  outlet  pipe  to  your  drain.  Ensure  the  drain  connection  is  secure  and  \\nallows\\n \\nfor\\n \\ncontinuous\\n \\nflow.\\n c.  Power  Connection:  i.  Plug  the  power  adapter  into  the  purifier's  power  port,  then  into  a  grounded  electrical  \\noutlet.\\n d.  Initial  Flush:  i.  After  installation,  open  the  ball  valve.  Allow  the  purifier  to  fill  and  dispense  water  for  \\n15-20\\n \\nminutes.\\n \\nThis\\n \\nflushes\\n \\nout\\n \\nany\\n \\ncarbon\\n \\ndust\\n \\nand\\n \\nprepares\\n \\nthe\\n \\nfilters.\\n \\nDiscard\\n \\nthe\\n \\nfirst\\n \\nfew\\n \\nliters\\n \\nof\\n \\nwater.\\n \\n \\n5.  5.  Operating  Your  QuantumFlow  a.  Power  On/Off:  i.  Press  the  power  button  on  the  front  panel  to  turn  the  unit  on  or  off.  The  LED  display  \\nwill\\n \\nilluminate.\\n b.  Water  Dispensing:  i.  Place  a  container  under  the  spigot  and  press  the  dispense  button.  The  purifier  will  \\nautomatically\\n \\nstop\\n \\nonce\\n \\nthe\"), Document(metadata={'producer': 'Skia/PDF m139 Google Docs Renderer', 'creator': 'PyPDF', 'creationdate': '', 'title': 'Untitled document', 'source': './data\\\\QuantumFlow_User_Manual.pdf', 'total_pages': 3, 'page': 1, 'page_label': '2'}, page_content='will\\n \\nilluminate.\\n b.  Water  Dispensing:  i.  Place  a  container  under  the  spigot  and  press  the  dispense  button.  The  purifier  will  \\nautomatically\\n \\nstop\\n \\nonce\\n \\nthe\\n \\ncontainer\\n \\nis\\n \\nfull\\n \\nor\\n \\nthe\\n \\nbutton\\n \\nis\\n \\nreleased.\\n c.  Filter  Status  Indicator:  i.  The  LED  display  shows  real-time  filter  life.  A  green  light  indicates  good  status,  yellow  \\nindicates\\n \\nnearing\\n \\nend-of-life,\\n \\nand\\n \\nred\\n \\nindicates\\n \\nreplacement\\n \\nis\\n \\nrequired.\\n \\n \\n6.  Smart  Features  &  App  Integration  a.  Download  the  \"QuantumFlow  Connect\"  app  from  the  App  Store  or  Google  Play.  b.  Pairing:  i.  Ensure  your  phone\\'s  Bluetooth  is  on.  ii.  Open  the  app  and  follow  the  on-screen  instructions  to  pair  with  your  QF-2025.  iii.  You  may  need  to  press  and  hold  the  Wi-Fi  button  on  the  purifier  for  5  seconds  until  \\nthe\\n \\nindicator\\n \\nblinks.'), Document(metadata={'producer': 'Skia/PDF m139 Google Docs Renderer', 'creator': 'PyPDF', 'creationdate': '', 'title': 'Untitled document', 'source': './data\\\\QuantumFlow_User_Manual.pdf', 'total_pages': 3, 'page': 1, 'page_label': '2'}, page_content='the\\n \\nindicator\\n \\nblinks.\\n c.  App  Functions:  i.  Real-time  water  quality  monitoring  (TDS  levels,  pH).  ii.  Remote  dispensing  control.  iii.  Filter  life  tracking  and  ordering.  iv.  Usage  history  and  daily  consumption  reports.  v.  Self-cleaning  mode  activation.  vi.  Receiving  alerts  for  leaks  or  maintenance.  \\n \\n7.  Maintenance  &  Care  a.  Filter  Replacement:  i.  Replace  filters  every  6-12  months,  or  when  indicated  by  the  app/LED  display.  Refer  \\nto\\n \\nsection\\n \\n7.2\\n \\nfor\\n \\nspecific\\n \\nfilter\\n \\norder.\\n ii.  Sediment  Filter:  QF-SF01  iii.  Pre-Carbon  Filter:  QF-PC01  iv.  RO  Membrane:  QF-RO01  v.  UV-C  Lamp:  QF-UV01  b.  Self-Cleaning  Mode:'), Document(metadata={'producer': 'Skia/PDF m139 Google Docs Renderer', 'creator': 'PyPDF', 'creationdate': '', 'title': 'Untitled document', 'source': './data\\\\QuantumFlow_User_Manual.pdf', 'total_pages': 3, 'page': 2, 'page_label': '3'}, page_content='i.  Activate  this  feature  via  the  mobile  app  or  by  pressing  and  holding  the  self-clean  \\nbutton\\n \\non\\n \\nthe\\n \\nunit\\n \\nfor\\n \\n3\\n \\nseconds.\\n \\nThis\\n \\nflushes\\n \\nthe\\n \\ninternal\\n \\nsystem,\\n \\nextending\\n \\nfilter\\n \\nlife.\\n \\nRecommended\\n \\nmonthly.\\n c.  External  Cleaning:  i.  Wipe  the  exterior  with  a  soft,  damp  cloth.  Do  not  use  abrasive  cleaners.  \\n \\n8.  Troubleshooting  a.  (See  separate  Troubleshooting  Guide  for  detailed  solutions)  b.  Common  Issues:  No  water  dispensing,  slow  flow,  strange  taste,  app  connectivity  issues.  \\n \\n9.  Warranty  Information  a.  Your  QuantumFlow  QF-2025  comes  with  a  2-year  limited  warranty  from  the  date  of  \\npurchase.\\n \\nThis\\n \\ncovers\\n \\nmanufacturing\\n \\ndefects.\\n \\nIt\\n \\ndoes\\n \\nnot\\n \\ncover\\n \\ndamage\\n \\nfrom\\n \\nimproper\\n \\ninstallation,\\n \\nmisuse,\\n \\nor\\n \\nnormal\\n \\nwear\\n \\nand\\n \\ntear\\n \\nof\\n \\nfilters.\\n b.  To  register  your  product,  visit  www.quantumflow.com/register.'), Document(metadata={'producer': 'Skia/PDF m139 Google Docs Renderer', 'creator': 'PyPDF', 'creationdate': '', 'title': 'Untitled document', 'source': './data\\\\QuantumFlow_User_Manual.pdf', 'total_pages': 3, 'page': 2, 'page_label': '3'}, page_content='does\\n \\nnot\\n \\ncover\\n \\ndamage\\n \\nfrom\\n \\nimproper\\n \\ninstallation,\\n \\nmisuse,\\n \\nor\\n \\nnormal\\n \\nwear\\n \\nand\\n \\ntear\\n \\nof\\n \\nfilters.\\n b.  To  register  your  product,  visit  www.quantumflow.com/register.  \\n \\n10.  Specifications  a.  Filtration  Stages:  RO+UV+UF+Alkaline  Enhancer  b.  Purification  Capacity:  15  Liters/Hour  c.  Storage  Tank  Capacity:  7  Liters  d.  Input  Water  Pressure:  0.3-3.0  kg/cm²  e.  Power  Consumption:  60W  f.  Dimensions:  400mm  x  250mm  x  500mm  (HxWxD)  g.  Net  Weight:  9.5  kg  h.  Operating  Temperature:  5°C  -  45°C')]\n",
      "Creating/loading ChromaDB at ./chroma_db with collection 'customer_support_knowledge'...\n",
      "Vector database created/updated successfully.\n",
      "\n",
      "--- Phase 1: Knowledge Base Built Successfully! ---\n",
      "Vector database stored at: ./chroma_db\n"
     ]
    }
   ],
   "source": [
    "print(\"--- Starting Phase 1: Building Knowledge Base ---\")\n",
    "\n",
    "# Ensure the data directory exists\n",
    "if not os.path.exists(DATA_DIR):\n",
    "    print(f\"Error: Data directory '{DATA_DIR}' not found. Please create it and add your documents.\")\n",
    "    exit()\n",
    "\n",
    "# Load documents\n",
    "raw_documents = load_documents(DATA_DIR)\n",
    "if not raw_documents:\n",
    "    print(\"No documents loaded. Please check your data directory and file types.\")\n",
    "    exit()\n",
    "\n",
    "# Chunk documents\n",
    "document_chunks = chunk_documents(raw_documents)\n",
    "print(document_chunks)\n",
    "\n",
    "# Create and store embeddings in ChromaDB\n",
    "# The 'vector_db' object is returned, which you can use for testing\n",
    "vector_db = create_and_store_embeddings(\n",
    "    document_chunks,\n",
    "    CHROMA_DB_DIR,\n",
    "    COLLECTION_NAME,\n",
    "    GOOGLE_API_KEY\n",
    ")\n",
    "\n",
    "print(f\"\\n--- Phase 1: Knowledge Base Built Successfully! ---\")\n",
    "print(f\"Vector database stored at: {CHROMA_DB_DIR}\")"
   ]
  },
  {
   "cell_type": "markdown",
   "id": "9de97c68",
   "metadata": {},
   "source": [
    "### Testing"
   ]
  },
  {
   "cell_type": "code",
   "execution_count": 28,
   "id": "4909d560",
   "metadata": {},
   "outputs": [
    {
     "name": "stdout",
     "output_type": "stream",
     "text": [
      "\n",
      "--- Performing Basic Retrieval Test ---\n",
      "\n",
      "Test Query 1: My QuantumFlow purifier is showing a red light on its filter status indicator. What does this mean, and what should I do\n",
      "Found 1 relevant chunks.\n",
      "  Chunk 1 (Source: ./data\\QuantumFlow_Troubleshooting_Guide.txt):\n",
      "    Content: 2.  CLOGGED FILTERS:\n",
      "    * Check the filter status indicators on the purifier's LED display or in the QuantumFlow Connect app.\n",
      "    * Yellow or Red lights indicate filters are nearing end-of-life or need immediate replacement.\n",
      "    * Solution: Order and replace the indicated filters (Sediment, Pre-Carbon, RO Membrane). Refer to the User Manual for filter replacement instructions and part numbers.\n",
      "\n",
      "3.  AIR LOCK IN THE SYSTEM:\n",
      "    * This can occur after initial installation or filter replacement.\n",
      "    * Solution: Turn off the purifier for 5 minutes, then turn it back on. Open the dispense valve for a few minutes to allow any trapped air to escape. Repeat if necessary.\n",
      "\n",
      "4.  FAULTY SOLENOID VALVE (SV):\n",
      "    * The SV controls water flow into the purifier. If it fails, water won't enter.\n",
      "    * Solution: This requires professional inspection. Contact customer support.\n",
      "\n",
      "Test Query 2: What kind of purification stages does the QuantumFlow QF-2025 use, and what is its water storage capacity?\n",
      "Found 1 relevant chunks.\n",
      "  Chunk 1 (Source: ./data\\QuantumFlow_FAQ.txt):\n",
      "    Content: QuantumFlow Smart Water Purifier - Frequently Asked Questions (FAQ)\n",
      "\n",
      "This document addresses common questions about your QuantumFlow Smart Water Purifier (Model QF-2025).\n",
      "\n",
      "---\n",
      "\n",
      "GENERAL QUESTIONS\n",
      "\n",
      "Q1: What makes the QuantumFlow Smart Water Purifier \"smart\"?\n",
      "A1: The QuantumFlow QF-2025 is smart due to its AI-powered monitoring system, real-time water quality analysis, filter life prediction, and seamless integration with the \"QuantumFlow Connect\" mobile app. This allows for remote control, usage tracking, and intelligent alerts.\n",
      "\n",
      "Q2: What type of filtration does the QuantumFlow use?\n",
      "A2: The QF-2025 utilizes a multi-stage purification process including Reverse Osmosis (RO), Ultraviolet (UV), Ultrafiltration (UF), and an Alkaline Enhancer for superior water quality.\n",
      "\n",
      "Q3: What is the storage capacity of the QuantumFlow?\n",
      "A3: The QuantumFlow QF-2025 has a purified water storage tank capacity of 7 liters.\n",
      "\n",
      "Test Query 3: I just installed my new QuantumFlow purifier, but the water flow is very slow. What could be the potential reasons for this issue, and what's the first step I should take?\n",
      "Found 1 relevant chunks.\n",
      "  Chunk 1 (Source: ./data\\QuantumFlow_FAQ.txt):\n",
      "    Content: Q11: What should I do if the water flow is very slow?\n",
      "A11: Slow water flow can indicate several issues:\n",
      "1. Clogged Filters: Check the filter status indicators. If yellow or red, filters need replacement.\n",
      "2. Low Input Water Pressure: Ensure your main water supply is fully open and has adequate pressure.\n",
      "3. Air Lock: Sometimes, air trapped in the system can cause slow flow. Try turning the unit off and on, and dispensing water a few times.\n",
      "4. RO Membrane Issue: If other filters are fine, the RO membrane might be clogged, especially with hard water.\n",
      "\n",
      "Refer to the \"QuantumFlow Troubleshooting Guide\" for more detailed steps.\n",
      "\n",
      "Test Query 4: How do I connect my QuantumFlow purifier to the mobile app, and what are some features I can access through the app?\n",
      "Found 1 relevant chunks.\n",
      "  Chunk 1 (Source: ./data\\QuantumFlow_Troubleshooting_Guide.txt):\n",
      "    Content: ---\n",
      "\n",
      "ISSUE 4: APP CONNECTIVITY ISSUES (QuantumFlow Connect App)\n",
      "\n",
      "Possible Causes & Solutions:\n",
      "\n",
      "1.  WI-FI/BLUETOOTH OFF OR OUT OF RANGE:\n",
      "    * Solution: Ensure your phone's Wi-Fi and Bluetooth are enabled. Make sure the purifier is within range of your Wi-Fi router.\n",
      "\n",
      "2.  INCORRECT PAIRING PROCEDURE:\n",
      "    * Solution: Refer to Section 6.1 in the User Manual (\"Smart Features & App Integration\") for detailed pairing instructions. Ensure you are pressing the Wi-Fi button on the purifier for the correct duration.\n",
      "\n",
      "3.  ROUTER OR INTERNET ISSUES:\n",
      "    * Solution: Restart your Wi-Fi router. Check if your internet connection is working normally for other devices.\n",
      "\n",
      "4.  APP GLITCH:\n",
      "    * Solution: Close and restart the QuantumFlow Connect app. Try restarting your phone.\n",
      "\n",
      "Test Query 5: My purified water has a strange taste. Could this be normal for a new filter, or is it a sign of a bigger problem?\n",
      "Found 1 relevant chunks.\n",
      "  Chunk 1 (Source: ./data\\QuantumFlow_Troubleshooting_Guide.txt):\n",
      "    Content: 4.  FAULTY SOLENOID VALVE (SV):\n",
      "    * The SV controls water flow into the purifier. If it fails, water won't enter.\n",
      "    * Solution: This requires professional inspection. Contact customer support.\n",
      "\n",
      "5.  BLOCKED RO MEMBRANE:\n",
      "    * The RO membrane can get severely clogged, especially with high TDS input water.\n",
      "    * Solution: The RO membrane will need replacement. This is usually indicated by a persistent red light for the RO filter.\n",
      "\n",
      "---\n",
      "\n",
      "ISSUE 2: STRANGE TASTE OR ODOR IN PURIFIED WATER\n",
      "\n",
      "Possible Causes & Solutions:\n",
      "\n",
      "1.  NEW FILTER TASTE:\n",
      "    * A slight plastic or carbon taste can be present immediately after new filter installation.\n",
      "    * Solution: Perform an initial flush as described in the User Manual (dispense and discard 15-20 liters of water).\n",
      "\n",
      "Test Query 6: What is the warranty period for the QuantumFlow QF-2025, and does it cover the cost of filter replacements?\n",
      "Found 1 relevant chunks.\n",
      "  Chunk 1 (Source: ./data\\QuantumFlow_FAQ.txt):\n",
      "    Content: ---\n",
      "\n",
      "WARRANTY & SUPPORT\n",
      "\n",
      "Q14: What is the warranty period for the QuantumFlow QF-2025?\n",
      "A14: The QuantumFlow QF-2025 comes with a 2-year limited warranty covering manufacturing defects from the date of purchase.\n",
      "\n",
      "Q15: Does the warranty cover filter replacements?\n",
      "A15: No, the warranty typically does not cover consumable parts like filters, which require periodic replacement due to normal wear and tear and usage.\n",
      "\n",
      "Q16: How can I contact customer support?\n",
      "A16:\n",
      "- Phone: 1800-123-4567 (Toll-Free, Mon-Fri, 9 AM - 6 PM IST)\n",
      "- Email: support@quantumflow.com\n",
      "- Website: www.quantumflow.com/support\n",
      "- Live Chat: Available on our website during business hours.\n",
      "\n",
      "Test Query 7: If I need to buy a replacement sediment filter, what is its specific model number, and where should I purchase genuine filters?\n",
      "Found 1 relevant chunks.\n",
      "  Chunk 1 (Source: ./data\\QuantumFlow_FAQ.txt):\n",
      "    Content: ---\n",
      "\n",
      "MAINTENANCE & TROUBLESHOOTING\n",
      "\n",
      "Q9: How often do I need to replace the filters?\n",
      "A9: Filter replacement frequency varies based on input water quality and usage. Generally, filters should be replaced every 6-12 months, or when indicated by the mobile app or the purifier's LED filter status indicators (yellow/red light).\n",
      "\n",
      "Q10: Where can I buy replacement filters?\n",
      "A10: Genuine QuantumFlow replacement filters can be purchased directly from our official website (www.quantumflow.com/shop) or authorized dealers. Refer to your user manual for correct filter model numbers (e.g., QF-SF01, QF-RO01).\n",
      "\n",
      "--- Phase 1 Complete! ---\n"
     ]
    }
   ],
   "source": [
    "print(\"\\n--- Performing Basic Retrieval Test ---\")\n",
    "retriever = vector_db.as_retriever(search_kwargs={\"k\": 1})\n",
    "\n",
    "test_queries = [\n",
    "    \"My QuantumFlow purifier is showing a red light on its filter status indicator. What does this mean, and what should I do\",\n",
    "    \"What kind of purification stages does the QuantumFlow QF-2025 use, and what is its water storage capacity?\",\n",
    "    \"I just installed my new QuantumFlow purifier, but the water flow is very slow. What could be the potential reasons for this issue, and what's the first step I should take?\",\n",
    "    \"How do I connect my QuantumFlow purifier to the mobile app, and what are some features I can access through the app?\",\n",
    "    \"My purified water has a strange taste. Could this be normal for a new filter, or is it a sign of a bigger problem?\",\n",
    "    \"What is the warranty period for the QuantumFlow QF-2025, and does it cover the cost of filter replacements?\",\n",
    "    \"If I need to buy a replacement sediment filter, what is its specific model number, and where should I purchase genuine filters?\"\n",
    "]\n",
    "\n",
    "for i, query in enumerate(test_queries):\n",
    "    print(f\"\\nTest Query {i+1}: {query}\")\n",
    "    try:\n",
    "        # Retrieve relevant chunks\n",
    "        results = retriever.invoke(query)\n",
    "        print(f\"Found {len(results)} relevant chunks.\")\n",
    "        for j, doc in enumerate(results):\n",
    "            print(f\"  Chunk {j+1} (Source: {doc.metadata.get('source', 'N/A')}):\")\n",
    "            print(f\"    Content: {doc.page_content}\") # Print first 200 chars\n",
    "    except Exception as e:\n",
    "        print(f\"  Error during retrieval: {e}\")\n",
    "\n",
    "print(\"\\n--- Phase 1 Complete! ---\")"
   ]
  }
 ],
 "metadata": {
  "kernelspec": {
   "display_name": ".venv",
   "language": "python",
   "name": "python3"
  },
  "language_info": {
   "codemirror_mode": {
    "name": "ipython",
    "version": 3
   },
   "file_extension": ".py",
   "mimetype": "text/x-python",
   "name": "python",
   "nbconvert_exporter": "python",
   "pygments_lexer": "ipython3",
   "version": "3.11.7"
  }
 },
 "nbformat": 4,
 "nbformat_minor": 5
}

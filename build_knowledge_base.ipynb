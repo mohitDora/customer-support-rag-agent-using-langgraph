{
 "cells": [
  {
   "cell_type": "markdown",
   "id": "50eb8f45",
   "metadata": {},
   "source": [
    "### Import Statements"
   ]
  },
  {
   "cell_type": "code",
   "execution_count": null,
   "id": "fdcef33b",
   "metadata": {},
   "outputs": [],
   "source": [
    "import os\n",
    "from langchain_community.document_loaders import PyPDFLoader, TextLoader, UnstructuredMarkdownLoader\n",
    "from langchain.text_splitter import RecursiveCharacterTextSplitter\n",
    "from langchain_google_genai import GoogleGenerativeAIEmbeddings\n",
    "from langchain_community.vectorstores import Chroma\n",
    "from dotenv import load_dotenv\n",
    "\n",
    "load_dotenv()"
   ]
  },
  {
   "cell_type": "markdown",
   "id": "9bfffa2a",
   "metadata": {},
   "source": [
    "### Configuration"
   ]
  },
  {
   "cell_type": "code",
   "execution_count": null,
   "id": "b25bd704",
   "metadata": {},
   "outputs": [],
   "source": [
    "DATA_DIR = \"./data\" # Path to your documents\n",
    "CHROMA_DB_DIR = \"./chroma_db\"             # Directory to store ChromaDB persistence\n",
    "COLLECTION_NAME = \"customer_support_knowledge\" # Name of your collection in ChromaDB\n",
    "GOOGLE_API_KEY = os.getenv(\"GEMINI_API_KEY\")"
   ]
  },
  {
   "cell_type": "markdown",
   "id": "e2b025eb",
   "metadata": {},
   "source": [
    "### Load Documents"
   ]
  },
  {
   "cell_type": "code",
   "execution_count": null,
   "id": "96de48b8",
   "metadata": {},
   "outputs": [],
   "source": [
    "def load_documents(data_dir):\n",
    "    documents = []\n",
    "    for filename in os.listdir(data_dir):\n",
    "        file_path = os.path.join(data_dir, filename)\n",
    "        if filename.endswith(\".pdf\"):\n",
    "            loader = PyPDFLoader(file_path)\n",
    "            documents.extend(loader.load())\n",
    "            print(f\"Loaded {len(loader.load())} pages from {filename}\")\n",
    "        elif filename.endswith(\".txt\"):\n",
    "            loader = TextLoader(file_path)\n",
    "            documents.extend(loader.load())\n",
    "            print(f\"Loaded text from {filename}\")\n",
    "        elif filename.endswith(\".md\"):\n",
    "            # UnstructuredMarkdownLoader is good for parsing Markdown structure\n",
    "            loader = UnstructuredMarkdownLoader(file_path)\n",
    "            print(f\"Loaded markdown from {filename}\")\n",
    "        else:\n",
    "            print(f\"Skipping unsupported file type: {filename}\")\n",
    "    return documents"
   ]
  },
  {
   "cell_type": "markdown",
   "id": "775f80d1",
   "metadata": {},
   "source": [
    "### Chunking documents"
   ]
  },
  {
   "cell_type": "code",
   "execution_count": null,
   "id": "cf17c98e",
   "metadata": {},
   "outputs": [],
   "source": [
    "def chunk_documents(documents):\n",
    "    text_splitter = RecursiveCharacterTextSplitter(\n",
    "        chunk_size=1000,      # Max characters per chunk\n",
    "        chunk_overlap=200,    # Overlap between chunks to maintain context\n",
    "        length_function=len,  # Use character length for chunking\n",
    "        separators=[\"\\n\\n\", \"\\n\", \" \", \"\"] # Try splitting by paragraphs, then lines, then words, then characters\n",
    "    )\n",
    "    chunks = text_splitter.split_documents(documents)\n",
    "    print(f\"Split {len(documents)} documents into {len(chunks)} chunks.\")\n",
    "    return chunks"
   ]
  },
  {
   "cell_type": "markdown",
   "id": "18c49178",
   "metadata": {},
   "source": [
    "### Create Embeddings"
   ]
  },
  {
   "cell_type": "code",
   "execution_count": null,
   "id": "bd6a932f",
   "metadata": {},
   "outputs": [],
   "source": [
    "def create_and_store_embeddings(chunks, chroma_db_dir, collection_name, google_api_key):\n",
    "    # Initialize Google Gemini Embeddings\n",
    "    embeddings = GoogleGenerativeAIEmbeddings(\n",
    "        model=\"models/embedding-001\", # Recommended embedding model for Gemini\n",
    "        google_api_key=google_api_key\n",
    "    )\n",
    "\n",
    "    # Create a ChromaDB instance, persisting to disk\n",
    "    # This will create/load the database at CHROMA_DB_DIR\n",
    "    print(f\"Creating/loading ChromaDB at {chroma_db_dir} with collection '{collection_name}'...\")\n",
    "    vector_db = Chroma.from_documents(\n",
    "        documents=chunks,\n",
    "        embedding=embeddings,\n",
    "        persist_directory=chroma_db_dir,\n",
    "        collection_name=collection_name\n",
    "    )\n",
    "    print(\"Vector database created/updated successfully.\")\n",
    "    return vector_db"
   ]
  },
  {
   "cell_type": "markdown",
   "id": "558e15ff",
   "metadata": {},
   "source": [
    "### Running file"
   ]
  },
  {
   "cell_type": "code",
   "execution_count": null,
   "id": "c3176caa",
   "metadata": {},
   "outputs": [],
   "source": [
    "print(\"--- Starting Phase 1: Building Knowledge Base ---\")\n",
    "\n",
    "# Ensure the data directory exists\n",
    "if not os.path.exists(DATA_DIR):\n",
    "    print(f\"Error: Data directory '{DATA_DIR}' not found. Please create it and add your documents.\")\n",
    "    exit()\n",
    "\n",
    "# Load documents\n",
    "raw_documents = load_documents(DATA_DIR)\n",
    "if not raw_documents:\n",
    "    print(\"No documents loaded. Please check your data directory and file types.\")\n",
    "    exit()\n",
    "\n",
    "# Chunk documents\n",
    "document_chunks = chunk_documents(raw_documents)\n",
    "\n",
    "# Create and store embeddings in ChromaDB\n",
    "# The 'vector_db' object is returned, which you can use for testing\n",
    "vector_db = create_and_store_embeddings(\n",
    "    document_chunks,\n",
    "    CHROMA_DB_DIR,\n",
    "    COLLECTION_NAME,\n",
    "    GOOGLE_API_KEY\n",
    ")\n",
    "\n",
    "print(f\"\\n--- Phase 1: Knowledge Base Built Successfully! ---\")\n",
    "print(f\"Vector database stored at: {CHROMA_DB_DIR}\")"
   ]
  },
  {
   "cell_type": "markdown",
   "id": "9de97c68",
   "metadata": {},
   "source": [
    "### Testing"
   ]
  },
  {
   "cell_type": "code",
   "execution_count": null,
   "id": "4909d560",
   "metadata": {},
   "outputs": [],
   "source": [
    "print(\"\\n--- Performing Basic Retrieval Test ---\")\n",
    "retriever = vector_db.as_retriever(search_kwargs={\"k\": 1})\n",
    "\n",
    "test_queries = [\n",
    "    \"My QuantumFlow purifier is showing a red light on its filter status indicator. What does this mean, and what should I do\",\n",
    "    \"What kind of purification stages does the QuantumFlow QF-2025 use, and what is its water storage capacity?\",\n",
    "    \"I just installed my new QuantumFlow purifier, but the water flow is very slow. What could be the potential reasons for this issue, and what's the first step I should take?\",\n",
    "    \"How do I connect my QuantumFlow purifier to the mobile app, and what are some features I can access through the app?\",\n",
    "    \"My purified water has a strange taste. Could this be normal for a new filter, or is it a sign of a bigger problem?\",\n",
    "    \"What is the warranty period for the QuantumFlow QF-2025, and does it cover the cost of filter replacements?\",\n",
    "    \"If I need to buy a replacement sediment filter, what is its specific model number, and where should I purchase genuine filters?\"\n",
    "]\n",
    "\n",
    "for i, query in enumerate(test_queries):\n",
    "    print(f\"\\nTest Query {i+1}: {query}\")\n",
    "    try:\n",
    "        # Retrieve relevant chunks\n",
    "        results = retriever.invoke(query)\n",
    "        print(f\"Found {len(results)} relevant chunks.\")\n",
    "        for j, doc in enumerate(results):\n",
    "            print(f\"  Chunk {j+1} (Source: {doc.metadata.get('source', 'N/A')}):\")\n",
    "            print(f\"    Content: {doc.page_content}\") # Print first 200 chars\n",
    "    except Exception as e:\n",
    "        print(f\"  Error during retrieval: {e}\")\n",
    "\n",
    "print(\"\\n--- Phase 1 Complete! ---\")"
   ]
  }
 ],
 "metadata": {
  "kernelspec": {
   "display_name": ".venv",
   "language": "python",
   "name": "python3"
  },
  "language_info": {
   "codemirror_mode": {
    "name": "ipython",
    "version": 3
   },
   "file_extension": ".py",
   "mimetype": "text/x-python",
   "name": "python",
   "nbconvert_exporter": "python",
   "pygments_lexer": "ipython3",
   "version": "3.11.7"
  }
 },
 "nbformat": 4,
 "nbformat_minor": 5
}
